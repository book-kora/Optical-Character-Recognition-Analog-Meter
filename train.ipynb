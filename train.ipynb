{
 "cells": [
  {
   "cell_type": "code",
   "execution_count": 2,
   "id": "ff208a04",
   "metadata": {},
   "outputs": [
    {
     "name": "stdout",
     "output_type": "stream",
     "text": [
      "Torch version: 2.1.0+cu118\n",
      "CUDA available: True\n",
      "Device count: 1\n",
      "GPU Name: NVIDIA GeForce GTX 1650\n"
     ]
    }
   ],
   "source": [
    "import torch\n",
    "\n",
    "print(\"Torch version:\", torch.__version__)\n",
    "print(\"CUDA available:\", torch.cuda.is_available())\n",
    "print(\"Device count:\", torch.cuda.device_count())\n",
    "if torch.cuda.is_available():\n",
    "    print(\"GPU Name:\", torch.cuda.get_device_name(0))\n",
    "else:\n",
    "    print(\"❌ No CUDA GPU detected by torch\")"
   ]
  },
  {
   "cell_type": "code",
   "execution_count": 7,
   "id": "3b06583d",
   "metadata": {},
   "outputs": [],
   "source": [
    "from ultralytics import YOLO # shift + alt = ลากพิมคอมเม้น\n",
    "\n",
    "# Load a model\n",
    "model = YOLO(\"yolo11m.yaml\") "
   ]
  },
  {
   "cell_type": "code",
   "execution_count": null,
   "id": "d4006473",
   "metadata": {},
   "outputs": [],
   "source": [
    "from pathlib import Path\n",
    "list_of_pad = ['_reflect-reflect_real', '-white_pad', '-black_pad']\n",
    "\n",
    "# Create a list of WindowsPath objects for the YAML files in split directories\n",
    "yaml_paths = [Path(f'spill-kit_qd{e}/data.yaml') for e in list_of_pad]\n",
    "\n",
    "print(yaml_paths)"
   ]
  },
  {
   "cell_type": "code",
   "execution_count": null,
   "id": "fe0c5255",
   "metadata": {},
   "outputs": [],
   "source": [
    "from ultralytics import YOLO # shift + alt = ลากพิมคอมเม้น\n",
    "import pickle\n",
    "# Load a model\n",
    "model = YOLO(\"yolov8m.yaml\")  # build a new model from scratch\n",
    "results = {}\n",
    "\n",
    "# Define your additional arguments here\n",
    "\n",
    "for k in range(len(yaml_paths)): #range(start,stop,step)\n",
    "    dataset_yaml = yaml_paths[k]\n",
    "    model.train(data=dataset_yaml,epochs=150, batch=-1, project='model',device = 0, cache = -1, imgsz = 640)  # include any train arguments\n",
    "\n",
    "    # save output metrics for further analysis\n",
    "    results[k] = model.metrics  \n",
    "    print(f\"Training completed for dataset {k+1} with metrics: {results[k]}\")\n",
    "\n",
    "# After the loop, save the results variable\n",
    "with open('training_results.pkl', 'wb') as f:\n",
    "    pickle.dump(results, f)"
   ]
  },
  {
   "cell_type": "code",
   "execution_count": null,
   "id": "80980087",
   "metadata": {},
   "outputs": [],
   "source": [
    "from ultralytics import YOLO\n",
    "\n",
    "# Load a model\n",
    "model = YOLO('model/train3\\weights/best.pt')  # pretrained YOLOv8m model\n",
    "\n",
    "import os\n",
    "path = 'spill-kit_qd-original/test\\images/' # พรีดิกรูป ใช้: 'pred/image/' ***ต้องมี / อยู่หลังสุดเสมอ!!!\n",
    "filenames = []\n",
    "for filename in os.listdir(path):    \n",
    "    filenames.append(path+filename)\n",
    "\"\"\"\n",
    "filenames = 'pred/video_ieee\\CM5.mp4'   # for video prediction\n",
    "\"\"\"\n",
    "# iou = 0.7 by default\n",
    "\n",
    "model.predict(filenames, device = 'cpu', save=True, iou = 0.7, project = 'inference', name = 'reflect')#, classes = 3) save=True เมื่ออยากเซฟรูปที่ detect\n",
    "\n",
    "#model.predict(filenames, device = 0, save = True, iou = 0.7, project = 'pred/video_ieee', name = 'civic_N=4') # save_txt = True เมื่ออยากเซฟ label"
   ]
  }
 ],
 "metadata": {
  "kernelspec": {
   "display_name": "Python 3",
   "language": "python",
   "name": "python3"
  },
  "language_info": {
   "codemirror_mode": {
    "name": "ipython",
    "version": 3
   },
   "file_extension": ".py",
   "mimetype": "text/x-python",
   "name": "python",
   "nbconvert_exporter": "python",
   "pygments_lexer": "ipython3",
   "version": "3.11.9"
  }
 },
 "nbformat": 4,
 "nbformat_minor": 5
}
